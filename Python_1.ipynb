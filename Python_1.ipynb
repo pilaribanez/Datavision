{
  "nbformat": 4,
  "nbformat_minor": 0,
  "metadata": {
    "colab": {
      "provenance": []
    },
    "kernelspec": {
      "name": "python3",
      "display_name": "Python 3"
    }
  },
  "cells": [
    {
      "cell_type": "markdown",
      "metadata": {
        "id": "Pk0TDpxtlKtR"
      },
      "source": [
        "\n",
        "\n",
        "#Big Data\n",
        "# Introducción a Python\n",
        "\n"
      ]
    },
    {
      "cell_type": "markdown",
      "metadata": {
        "id": "jNIlov4r9YTe"
      },
      "source": [
        "## 1) Primer Paso\n",
        "\n",
        "Este es un primer ejercicio de python\n",
        "\n"
      ]
    },
    {
      "cell_type": "code",
      "metadata": {
        "id": "wkktko0ai8aR"
      },
      "source": [
        "a=1+1\n"
      ],
      "execution_count": null,
      "outputs": []
    },
    {
      "cell_type": "code",
      "source": [
        "a"
      ],
      "metadata": {
        "id": "gaU9BjFo7coT"
      },
      "execution_count": null,
      "outputs": []
    },
    {
      "cell_type": "code",
      "source": [
        "print(a)"
      ],
      "metadata": {
        "id": "8W3fcovE35hb"
      },
      "execution_count": null,
      "outputs": []
    },
    {
      "cell_type": "code",
      "metadata": {
        "id": "tfdKY-k7j60G"
      },
      "source": [
        "b=\"Big Data\""
      ],
      "execution_count": null,
      "outputs": []
    },
    {
      "cell_type": "code",
      "metadata": {
        "id": "q0Szy-JQjVvX"
      },
      "source": [
        "b"
      ],
      "execution_count": null,
      "outputs": []
    },
    {
      "cell_type": "markdown",
      "metadata": {
        "id": "PxZVJ1u1mrWd"
      },
      "source": [
        "## Segundo paso!\n",
        "\n",
        "Explorar un pandas data frame y sus tipos de datos"
      ]
    },
    {
      "cell_type": "code",
      "metadata": {
        "id": "JXZ-ULORmtgE"
      },
      "source": [
        "# cargar librería Pandas"
      ],
      "execution_count": null,
      "outputs": []
    },
    {
      "cell_type": "code",
      "metadata": {
        "id": "lzxvVMXCpOJQ"
      },
      "source": [
        "import pandas as pd"
      ],
      "execution_count": null,
      "outputs": []
    },
    {
      "cell_type": "code",
      "metadata": {
        "id": "Nb30UPrqpn7Q"
      },
      "source": [
        "# crear data frame (no le presten atención por ahora...)\n",
        "d_star_wars = pd.DataFrame({'personaje': ['Luke Skywaker', 'C-3PO', 'Darth Vader'], 'altura':[172, 167, 202]})"
      ],
      "execution_count": null,
      "outputs": []
    },
    {
      "cell_type": "code",
      "metadata": {
        "id": "wa_yyKmFqIFD"
      },
      "source": [
        "d_star_wars"
      ],
      "execution_count": null,
      "outputs": []
    },
    {
      "cell_type": "code",
      "metadata": {
        "id": "zStFRFcuqJYq"
      },
      "source": [
        "# Tipos de datos de pandas data frame\n",
        "d_star_wars.dtypes"
      ],
      "execution_count": null,
      "outputs": []
    },
    {
      "cell_type": "code",
      "metadata": {
        "id": "gho7z3eSquB-"
      },
      "source": [
        "# Tipo de estructura de dato: la lista\n",
        "lista_personajes=['Luke Skywaker', 'C-3PO', 'Darth Vader']"
      ],
      "execution_count": null,
      "outputs": []
    },
    {
      "cell_type": "code",
      "source": [
        "lista_personajes"
      ],
      "metadata": {
        "id": "n0sSZsVa4OmE"
      },
      "execution_count": null,
      "outputs": []
    },
    {
      "cell_type": "code",
      "metadata": {
        "id": "EAcxNOCkrepw"
      },
      "source": [
        "lista_altura=[172, 167, 202]"
      ],
      "execution_count": null,
      "outputs": []
    },
    {
      "cell_type": "code",
      "metadata": {
        "id": "ENGuD1nYrjyo"
      },
      "source": [
        "lista_altura"
      ],
      "execution_count": null,
      "outputs": []
    },
    {
      "cell_type": "code",
      "metadata": {
        "id": "LDachckBrk7V"
      },
      "source": [
        "# Crear un pandas dataframe basado en 2 listas\n",
        "dataframe_2l = pd.DataFrame({'personaje': lista_personajes,\n",
        "                   'altura':lista_altura\n",
        "                  })"
      ],
      "execution_count": null,
      "outputs": []
    },
    {
      "cell_type": "code",
      "metadata": {
        "id": "pWgOR8wAsImK"
      },
      "source": [
        "dataframe_2l"
      ],
      "execution_count": null,
      "outputs": []
    },
    {
      "cell_type": "markdown",
      "metadata": {
        "id": "RcwFKkcCMrpz"
      },
      "source": [
        "## Tercer paso!\n",
        "\n",
        "Filtrar datos en pandas. La lógica de la notación vectorial."
      ]
    },
    {
      "cell_type": "code",
      "metadata": {
        "id": "HRem86xYMtP-"
      },
      "source": [
        "d_star_wars"
      ],
      "execution_count": null,
      "outputs": []
    },
    {
      "cell_type": "code",
      "metadata": {
        "id": "cPA7uoqjOQwx"
      },
      "source": [
        "d_star_wars['personaje'] # devuelve un pandas series"
      ],
      "execution_count": null,
      "outputs": []
    },
    {
      "cell_type": "code",
      "metadata": {
        "id": "BWK3M7zROv4T"
      },
      "source": [
        "# d_star_wars.iloc[indice de fila, indice de columna]\n",
        "d_star_wars.iloc[:, 0] # los dos puntos simboliza los slides"
      ],
      "execution_count": null,
      "outputs": []
    },
    {
      "cell_type": "code",
      "metadata": {
        "id": "akn758rfO6kk"
      },
      "source": [
        "# devuelve todo el registro 0\n",
        "d_star_wars.iloc[0, :]"
      ],
      "execution_count": null,
      "outputs": []
    },
    {
      "cell_type": "markdown",
      "metadata": {
        "id": "E4adyxUSQiPz"
      },
      "source": [
        "Esto los puede confundir..."
      ]
    },
    {
      "cell_type": "code",
      "metadata": {
        "id": "E0i-yeT1PjCj"
      },
      "source": [
        "d_star_wars.loc[:, 'personaje'] # es equivalente a: d_star_wars.iloc[:, 0]"
      ],
      "execution_count": null,
      "outputs": []
    },
    {
      "cell_type": "code",
      "metadata": {
        "id": "RFkzb8BaQgAA"
      },
      "source": [
        "#d_star_wars.iloc[:, 'personaje'] # error porque el 2do parámetro no es un entero"
      ],
      "execution_count": null,
      "outputs": []
    },
    {
      "cell_type": "code",
      "metadata": {
        "id": "iljP9Os0RN5f"
      },
      "source": [
        "# índices para las columnas:\n",
        "d_star_wars.columns"
      ],
      "execution_count": null,
      "outputs": []
    },
    {
      "cell_type": "code",
      "metadata": {
        "id": "tsmC8avDRZ-6"
      },
      "source": [
        "# índices de los registros\n",
        "list(d_star_wars.index)"
      ],
      "execution_count": null,
      "outputs": []
    },
    {
      "cell_type": "code",
      "metadata": {
        "id": "g3VjF13aRfTj"
      },
      "source": [
        "d_star_wars.loc[0, :] # es equivalente: d_star_wars.iloc[0, :] (porque el índice 0 es la posición y el nombre)"
      ],
      "execution_count": null,
      "outputs": []
    },
    {
      "cell_type": "code",
      "metadata": {
        "id": "bW7eAqQGSNVp"
      },
      "source": [
        "# acceder a 1 elemento\n",
        "d_star_wars.loc[0, 'altura']"
      ],
      "execution_count": null,
      "outputs": []
    },
    {
      "cell_type": "code",
      "metadata": {
        "id": "TuOWZ5-OSh8n"
      },
      "source": [
        "d_star_wars.loc[1, 'altura']"
      ],
      "execution_count": null,
      "outputs": []
    },
    {
      "cell_type": "markdown",
      "metadata": {
        "id": "nyjrYjo7X48j"
      },
      "source": [
        "## Cuarto paso\n",
        "\n",
        "Un poco mas de acceso y filtos de datos con condiciones"
      ]
    },
    {
      "cell_type": "markdown",
      "metadata": {
        "id": "Bf1zRCGpaZ1H"
      },
      "source": [
        "![](https://shanelynnwebsite-mid9n9g1q9y8tt.netdna-ssl.com/wp-content/uploads/2016/10/Pandas-selections-and-indexing-768x549.png)"
      ]
    },
    {
      "cell_type": "code",
      "metadata": {
        "id": "HujXQU6BZk73"
      },
      "source": [
        "d_star_wars"
      ],
      "execution_count": null,
      "outputs": []
    },
    {
      "cell_type": "code",
      "metadata": {
        "id": "WTPWCYN-anmZ"
      },
      "source": [
        "d_star_wars.iloc[0:2, 0] #[indice de fila, indice de columna] 0:2 significa que queremos la fila desde la posición 0 a la 2"
      ],
      "execution_count": null,
      "outputs": []
    },
    {
      "cell_type": "code",
      "metadata": {
        "id": "093gE5aZbcVe"
      },
      "source": [
        "# en este caso, nos devuelve todo\n",
        "d_star_wars.iloc[0:3, 0:2]"
      ],
      "execution_count": null,
      "outputs": []
    },
    {
      "cell_type": "markdown",
      "metadata": {
        "id": "qlqqZBwQd-v5"
      },
      "source": [
        "### Remplazar valores"
      ]
    },
    {
      "cell_type": "code",
      "metadata": {
        "id": "ofZPOwGmbpTE"
      },
      "source": [
        "# otra manera de filtrar vectorialmente\n",
        "d_star_wars['personaje']=='Darth Vader'"
      ],
      "execution_count": null,
      "outputs": []
    },
    {
      "cell_type": "code",
      "metadata": {
        "id": "gTYNmYf8cK7j"
      },
      "source": [
        "# ¿Cómo le cambiamos la altura a Darth Vader?\n",
        "v_flag = d_star_wars['personaje']=='Darth Vader'"
      ],
      "execution_count": null,
      "outputs": []
    },
    {
      "cell_type": "code",
      "metadata": {
        "id": "TZuZ7hZFlXS7"
      },
      "source": [
        "# ¿Como remplazar un valor basado en una condición?\n",
        "d_star_wars.loc[v_flag, 'altura']"
      ],
      "execution_count": null,
      "outputs": []
    },
    {
      "cell_type": "code",
      "metadata": {
        "id": "2z8oLlBXmXCz"
      },
      "source": [
        "d_star_wars.loc[v_flag, 'altura'] = 185"
      ],
      "execution_count": null,
      "outputs": []
    },
    {
      "cell_type": "code",
      "metadata": {
        "id": "JZC8PwcRnrZW"
      },
      "source": [
        "# chequeo\n",
        "d_star_wars"
      ],
      "execution_count": null,
      "outputs": []
    },
    {
      "cell_type": "code",
      "metadata": {
        "id": "GD2YJFvUoDgS"
      },
      "source": [
        "# haciendo todo en la misma linea\n",
        "d_star_wars.loc[ d_star_wars['personaje']=='Luke Skywaker', 'altura']=200"
      ],
      "execution_count": null,
      "outputs": []
    },
    {
      "cell_type": "code",
      "metadata": {
        "id": "iJNnY-fWo_GW"
      },
      "source": [
        "d_star_wars"
      ],
      "execution_count": null,
      "outputs": []
    },
    {
      "cell_type": "markdown",
      "metadata": {
        "id": "PQJCNkjCiRNm"
      },
      "source": [
        "## 2) Dominando los datos\n",
        "\n",
        "Carga de archivos, exploración de un data frame"
      ]
    },
    {
      "cell_type": "code",
      "source": [
        "# URL donde se encuentra el archivo CSV\n",
        "url = 'https://raw.githubusercontent.com/fpineyro/homework-0/master/starwars.csv'\n",
        "\n",
        "# Lee el CSV\n",
        "d_star_wars = pd.read_csv(url)\n"
      ],
      "metadata": {
        "id": "FHZMAZzE8xsM"
      },
      "execution_count": null,
      "outputs": []
    },
    {
      "cell_type": "code",
      "source": [
        "# Muestra las primeras 5 filas para ver si efectivamente cargó bien lso datos\n",
        "d_star_wars.head()"
      ],
      "metadata": {
        "id": "3e_jGCtt9dme"
      },
      "execution_count": null,
      "outputs": []
    },
    {
      "cell_type": "markdown",
      "metadata": {
        "id": "EUMCc-1vtKCn"
      },
      "source": [
        "Cargamos los datos en una tabla"
      ]
    },
    {
      "cell_type": "code",
      "metadata": {
        "id": "VHJBwGvFpwhh"
      },
      "source": [
        "# Exploración con DataTable colab\n",
        "from google.colab.data_table import DataTable\n",
        "\n",
        "DataTable(d_star_wars)"
      ],
      "execution_count": null,
      "outputs": []
    },
    {
      "cell_type": "code",
      "metadata": {
        "id": "zCyLljbDkXku"
      },
      "source": [
        "# shape, nos muestra cuantas filas (87) y cuantas columnas tiene el dataframe (10)\n",
        "d_star_wars.shape"
      ],
      "execution_count": null,
      "outputs": []
    },
    {
      "cell_type": "code",
      "metadata": {
        "id": "tG8xSuarkZJc"
      },
      "source": [
        "# head / tail\n",
        "d_star_wars.head(3)"
      ],
      "execution_count": null,
      "outputs": []
    },
    {
      "cell_type": "code",
      "metadata": {
        "id": "DyDHnl40kG7W",
        "collapsed": true
      },
      "source": [
        "# funpymodeling / instalar nuevas librerías\n",
        "!pip install funpymodeling"
      ],
      "execution_count": null,
      "outputs": []
    },
    {
      "cell_type": "code",
      "metadata": {
        "id": "Pz5-ihpH90ro"
      },
      "source": [],
      "execution_count": null,
      "outputs": []
    },
    {
      "cell_type": "markdown",
      "metadata": {
        "id": "eFME9bXa24Kl"
      },
      "source": [
        "#Importamos la librería de funpymodeling para explorar los datos\n"
      ]
    },
    {
      "cell_type": "code",
      "metadata": {
        "id": "aPVGC1mlkNbh"
      },
      "source": [
        "# status\n",
        "from funpymodeling.exploratory import status"
      ],
      "execution_count": null,
      "outputs": []
    },
    {
      "cell_type": "code",
      "metadata": {
        "id": "pnxFZzuVkUsT"
      },
      "source": [
        "#Mostramos estadísticas del dataframe\n",
        "status(d_star_wars)"
      ],
      "execution_count": null,
      "outputs": []
    },
    {
      "cell_type": "code",
      "metadata": {
        "id": "Q8OfKcNnGF1R"
      },
      "source": [
        "d_star_wars=pd.read_csv(filepath_or_buffer=\"https://raw.githubusercontent.com/fpineyro/homework-0/master/starwars.csv\", sep=',')\n",
        "d_star_wars"
      ],
      "execution_count": null,
      "outputs": []
    },
    {
      "cell_type": "markdown",
      "metadata": {
        "id": "V9LlEu0BJTKa"
      },
      "source": [
        "## Nulos en pandas"
      ]
    },
    {
      "cell_type": "code",
      "metadata": {
        "id": "azFUKEPlXtPe"
      },
      "source": [
        "d_star_wars.head()"
      ],
      "execution_count": null,
      "outputs": []
    },
    {
      "cell_type": "code",
      "metadata": {
        "id": "9nKzETs7fAzI"
      },
      "source": [
        "# None ~ NaN"
      ],
      "execution_count": null,
      "outputs": []
    },
    {
      "cell_type": "code",
      "metadata": {
        "id": "epuuNwZwjbFr"
      },
      "source": [
        "status(d_star_wars)"
      ],
      "execution_count": null,
      "outputs": []
    },
    {
      "cell_type": "code",
      "metadata": {
        "id": "OofrhDxWJW6j"
      },
      "source": [
        "# obtener nulos de una columna\n",
        "d_star_wars['hair_color'].isna()\n",
        "\n",
        "# creamos un filtro para obtener los registros con valores nulos\n",
        "d_star_wars[d_star_wars['hair_color'].isna()]"
      ],
      "execution_count": null,
      "outputs": []
    },
    {
      "cell_type": "code",
      "metadata": {
        "id": "wuHRGrmyJW8l"
      },
      "source": [
        "# el origen de los NaN\n",
        "import numpy as np"
      ],
      "execution_count": null,
      "outputs": []
    },
    {
      "cell_type": "code",
      "metadata": {
        "id": "wUpYrMdbjb4a"
      },
      "source": [
        "a=pd.Series([1,2,3, np.NaN])"
      ],
      "execution_count": null,
      "outputs": []
    },
    {
      "cell_type": "code",
      "metadata": {
        "id": "eUC2KEOijo1R"
      },
      "source": [
        "b=pd.Series([1,2,3, None])"
      ],
      "execution_count": null,
      "outputs": []
    },
    {
      "cell_type": "code",
      "metadata": {
        "id": "nlPFUvbGhirh"
      },
      "source": [
        "a"
      ],
      "execution_count": null,
      "outputs": []
    },
    {
      "cell_type": "code",
      "metadata": {
        "id": "6wzerJ6IhtJk"
      },
      "source": [
        "b"
      ],
      "execution_count": null,
      "outputs": []
    },
    {
      "cell_type": "markdown",
      "metadata": {
        "id": "a15cA4cqv9kF"
      },
      "source": [
        "### Remplazo de nulos\n",
        "\n",
        "Variable categórica / object"
      ]
    },
    {
      "cell_type": "code",
      "metadata": {
        "id": "Xa7Vs_7txajt"
      },
      "source": [
        "d_star_wars"
      ],
      "execution_count": null,
      "outputs": []
    },
    {
      "cell_type": "code",
      "metadata": {
        "id": "J6fgUvzbh9dS"
      },
      "source": [
        "values={'homeworld': 'nulo_home', 'species': 'nulo_species'}\n",
        "\n",
        "d_star_wars.fillna(value=values)"
      ],
      "execution_count": null,
      "outputs": []
    },
    {
      "cell_type": "code",
      "metadata": {
        "id": "pL_3yaNVzcFo"
      },
      "source": [
        "# remplazo en el mismo data frame\n",
        "d_star_wars.fillna(value=values, inplace=True)"
      ],
      "execution_count": null,
      "outputs": []
    },
    {
      "cell_type": "code",
      "metadata": {
        "id": "nKJEayaPvnQp"
      },
      "source": [
        "d_star_wars"
      ],
      "execution_count": null,
      "outputs": []
    },
    {
      "cell_type": "markdown",
      "metadata": {
        "id": "yRu6OxUD2yzx"
      },
      "source": [
        "## Imputación de nulos para variables numéricas\n",
        "\n"
      ]
    },
    {
      "cell_type": "code",
      "metadata": {
        "id": "FfA5M1K4vnSt"
      },
      "source": [
        "# Obtención del promedio de la altura, y luego imputamos una columna\n",
        "d_star_wars['height'].mean()"
      ],
      "execution_count": null,
      "outputs": []
    },
    {
      "cell_type": "code",
      "metadata": {
        "id": "Nhc4JtzLAsCi"
      },
      "source": [
        "d_star_wars['height']=d_star_wars['height'].fillna(d_star_wars['height'].mean())\n",
        "\n",
        "d_star_wars"
      ],
      "execution_count": null,
      "outputs": []
    },
    {
      "cell_type": "markdown",
      "metadata": {
        "id": "riuitse2vp-F"
      },
      "source": [
        "---\n",
        "\n",
        "## Ejercicios!\n",
        "\n",
        "Se asume que ya corrieron los ejercicios mostrados y exploraron un poco el ecosistema de google colab.\n",
        "\n",
        "👉 **Es super importante** que los hagan para fijar lo que aprendieron. No se frusten si estan 20 minutos para crear una lista, es al principio!\n",
        "\n",
        "<br>\n",
        "\n",
        "1) Crear dos listas de 5 valores, uno númerico y otro con string, llamado lista1 y lista2, con los siguientes valores:\n",
        "\n",
        "1,2,3,4,5\n",
        "\n",
        "a,b,c,d,e\n",
        "\n"
      ]
    },
    {
      "cell_type": "code",
      "metadata": {
        "id": "bVCiM4IW0GUB"
      },
      "source": [
        "#Ejercicio 1\n",
        "\n"
      ],
      "execution_count": null,
      "outputs": []
    },
    {
      "cell_type": "markdown",
      "metadata": {
        "id": "HN2RIPRF0Gs4"
      },
      "source": [
        "2) Crear e imprimir en pantalla un pandas data frame llamado `d_test` basandose en las listas del punto 1). Nombres de las columnas: `columna_A` y `columna_B`"
      ]
    },
    {
      "cell_type": "code",
      "metadata": {
        "id": "xnnT8EBXv17s"
      },
      "source": [
        "#Ejercicio 2"
      ],
      "execution_count": null,
      "outputs": []
    },
    {
      "cell_type": "markdown",
      "metadata": {
        "id": "1trFt4Mp0Knl"
      },
      "source": [
        "3) Cargar los datos de heart disease con pandas en una variable llamada `d_hd`. Imprimir en pantalla.\n",
        "\n",
        "URL: `https://raw.githubusercontent.com/fpineyro/homework-0/master/heart_disease.csv`\n",
        "\n"
      ]
    },
    {
      "cell_type": "code",
      "metadata": {
        "id": "N5eTxyFw0PE2"
      },
      "source": [
        "#Ejercicio 3"
      ],
      "execution_count": null,
      "outputs": []
    },
    {
      "cell_type": "code",
      "metadata": {
        "id": "vk9DHfAr1hLe"
      },
      "source": [
        "#Ejercicio 3.1) Imprimir la variable `age` y `has_heart_disease` al mismo tiempo.\n"
      ],
      "execution_count": null,
      "outputs": []
    },
    {
      "cell_type": "code",
      "metadata": {
        "id": "QRwViZ2I3FpP"
      },
      "source": [
        "#Ejericio 3.2) Explorar los datos con DataTable de google colab, usar filtros y ordenar las columnas haciendo click en ellas\n"
      ],
      "execution_count": null,
      "outputs": []
    },
    {
      "cell_type": "code",
      "metadata": {
        "id": "zpDIuaM_1URJ"
      },
      "source": [
        "#Ejercicio 3.3) Imprimir los primeros 3 registros con head, y los últomos 3 con tail\n",
        "\n",
        "# head\n"
      ],
      "execution_count": null,
      "outputs": []
    },
    {
      "cell_type": "code",
      "metadata": {
        "id": "_Yqaww6b5z71"
      },
      "source": [
        "#tail\n"
      ],
      "execution_count": null,
      "outputs": []
    },
    {
      "cell_type": "code",
      "metadata": {
        "id": "TPdrF7xeERO2"
      },
      "source": [
        "#Ejercicio 3.4) Acceder con loc a la columna has_heart_disease, y mostrar todos los registros\n"
      ],
      "execution_count": null,
      "outputs": []
    },
    {
      "cell_type": "code",
      "metadata": {
        "id": "Uls4dpJiEgWw"
      },
      "source": [
        "#Ejercicio 3.5) Idem 3.4) peor mostrando los primeros 3 registros. Usar slice, no head.\n"
      ],
      "execution_count": null,
      "outputs": []
    },
    {
      "cell_type": "code",
      "metadata": {
        "id": "yfVqQU1sFBix"
      },
      "source": [
        "#Ejercicio 3.6) Usar iloc para obtener las primeras 3 columnas, y 5 registros\n"
      ],
      "execution_count": null,
      "outputs": []
    },
    {
      "cell_type": "markdown",
      "metadata": {
        "id": "NFkwzOcw5_1G"
      },
      "source": [
        "4) Trabajando con nulos\n"
      ]
    },
    {
      "cell_type": "code",
      "metadata": {
        "id": "BAiXp62yDtP6",
        "collapsed": true
      },
      "source": [
        "# 4.1) Instalar funpymodeling\n",
        "!pip install funpymodeling"
      ],
      "execution_count": null,
      "outputs": []
    },
    {
      "cell_type": "code",
      "metadata": {
        "id": "1_ZCEks96CUO"
      },
      "source": [
        "# 4.2) Cargar función status\n",
        "from funpymodeling.exploratory import status"
      ],
      "execution_count": null,
      "outputs": []
    },
    {
      "cell_type": "code",
      "metadata": {
        "id": "i5PAmADVD4PT"
      },
      "source": [
        "#Ejercicio 4.3) ¿Qué variables tienen nulos?  (usar status)\n",
        "\n"
      ],
      "execution_count": null,
      "outputs": []
    },
    {
      "cell_type": "code",
      "metadata": {
        "id": "V2NRaF1cD4k9"
      },
      "source": [
        "#Ejercicio 4.4) Devolver un data frame con todos los registros que tienen NaN en la variable \"thal\".\n"
      ],
      "execution_count": null,
      "outputs": []
    },
    {
      "cell_type": "code",
      "metadata": {
        "id": "Ih_J_WmdD4uj"
      },
      "source": [
        "#Ejercicio 4.5) Remplazar los nulos que aparecen en la variable \"thal por 999. *No* guardarlo en el dataframe original. Usar fillna.\n"
      ],
      "execution_count": null,
      "outputs": []
    },
    {
      "cell_type": "code",
      "metadata": {
        "id": "fh4BgTd0Ifmp"
      },
      "source": [
        "#Ejercicio 4.6) Remplazar los nulos que aparecen en la variable \"thal\" por 999 (como antes),\n",
        "# y también remplazar los nulos de \"num_vessels_flour\" por el promedio de la variable.\n",
        "# Guardar el resultado en un dataframe nuevo llamado \"d_hd2\".\n",
        "\n",
        "\n"
      ],
      "execution_count": null,
      "outputs": []
    },
    {
      "cell_type": "code",
      "metadata": {
        "id": "YMTb6CaYD4zo"
      },
      "source": [
        "#Ejercicio 4.7) Chequear resultado con status\n"
      ],
      "execution_count": null,
      "outputs": []
    },
    {
      "cell_type": "code",
      "metadata": {
        "id": "Vr5lU2sWDriL"
      },
      "source": [
        "#Ejercicio 4.8)\n",
        "# Eliminar todas los registros con nulos usando `dropna` de pandas\n",
        "\n"
      ],
      "execution_count": null,
      "outputs": []
    }
  ]
}