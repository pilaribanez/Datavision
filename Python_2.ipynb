{
  "nbformat": 4,
  "nbformat_minor": 0,
  "metadata": {
    "colab": {
      "provenance": [],
      "include_colab_link": true
    },
    "kernelspec": {
      "name": "python3",
      "display_name": "Python 3"
    }
  },
  "cells": [
    {
      "cell_type": "markdown",
      "metadata": {
        "id": "view-in-github",
        "colab_type": "text"
      },
      "source": [
        "<a href=\"https://colab.research.google.com/github/pilaribanez/Datavision/blob/main/Python_2.ipynb\" target=\"_parent\"><img src=\"https://colab.research.google.com/assets/colab-badge.svg\" alt=\"Open In Colab\"/></a>"
      ]
    },
    {
      "cell_type": "markdown",
      "metadata": {
        "id": "C0KDC7G1bmeP"
      },
      "source": [
        "#Big Data\n",
        "\n",
        "# pandas data frame"
      ]
    },
    {
      "cell_type": "code",
      "metadata": {
        "id": "62Opin18GM2m"
      },
      "source": [
        "import pandas as pd\n",
        "from google.colab import files"
      ],
      "execution_count": null,
      "outputs": []
    },
    {
      "cell_type": "code",
      "metadata": {
        "id": "jqISvVyeGHkH"
      },
      "source": [
        "d_star_wars = pd.read_csv(filepath_or_buffer=\"https://raw.githubusercontent.com/fpineyro/homework-0/master/starwars.csv\", sep=',')\n",
        "d_star_wars"
      ],
      "execution_count": null,
      "outputs": []
    },
    {
      "cell_type": "code",
      "metadata": {
        "id": "3mWKrP4fGO7M"
      },
      "source": [
        "#Mostrar todas las columas del dataframa\n",
        "d_star_wars.columns"
      ],
      "execution_count": null,
      "outputs": []
    },
    {
      "cell_type": "markdown",
      "metadata": {
        "id": "MePWE18gJa_S"
      },
      "source": [
        "### 1) ¿Cómo eliminar columnas?"
      ]
    },
    {
      "cell_type": "code",
      "metadata": {
        "id": "m5OrOQeaJDaK"
      },
      "source": [
        "# Una columna\n",
        "d_star_wars.drop(columns='name')"
      ],
      "execution_count": null,
      "outputs": []
    },
    {
      "cell_type": "code",
      "metadata": {
        "id": "e5mTggzEJGir"
      },
      "source": [
        "# Eliminar N columnas\n",
        "d_star_wars.drop(columns=['name', 'height'])"
      ],
      "execution_count": null,
      "outputs": []
    },
    {
      "cell_type": "markdown",
      "metadata": {
        "id": "PklGrUPQJ4eC"
      },
      "source": [
        "### 2) ¿Cómo eliminar duplicados?"
      ]
    },
    {
      "cell_type": "code",
      "metadata": {
        "id": "KzQV7mBCJlLo"
      },
      "source": [
        "d_star_wars_2 = d_star_wars[['hair_color',\t'skin_color']]\n",
        "\n",
        "d_star_wars_2"
      ],
      "execution_count": null,
      "outputs": []
    },
    {
      "cell_type": "code",
      "source": [
        "d_star_wars_3 = d_star_wars_2.drop_duplicates()\n",
        "\n",
        "d_star_wars_3"
      ],
      "metadata": {
        "id": "524n3TFQ0AsL"
      },
      "execution_count": null,
      "outputs": []
    },
    {
      "cell_type": "code",
      "metadata": {
        "id": "ZSno-s8cf1bb"
      },
      "source": [
        "d_star_wars_3.shape"
      ],
      "execution_count": null,
      "outputs": []
    },
    {
      "cell_type": "markdown",
      "metadata": {
        "id": "gCfcuWPggcmU"
      },
      "source": [
        "2.b) ¿Cómo obtener los registros duplicados?"
      ]
    },
    {
      "cell_type": "code",
      "source": [
        "d_star_wars_2[d_star_wars_2.duplicated()]"
      ],
      "metadata": {
        "id": "UudSCzr20U9t"
      },
      "execution_count": null,
      "outputs": []
    },
    {
      "cell_type": "code",
      "metadata": {
        "id": "1f24f6PTf6nP"
      },
      "source": [
        "d_star_wars_2[d_star_wars_2.duplicated()].shape"
      ],
      "execution_count": null,
      "outputs": []
    },
    {
      "cell_type": "markdown",
      "metadata": {
        "id": "mGuyItlJKTNT"
      },
      "source": [
        "### 3) ¿Cómo ordenar un data frame?\n"
      ]
    },
    {
      "cell_type": "code",
      "metadata": {
        "id": "FGI0UxcbKYPn"
      },
      "source": [
        "d_star_wars.sort_values('height') # analizar los últimos valores..."
      ],
      "execution_count": null,
      "outputs": []
    },
    {
      "cell_type": "code",
      "metadata": {
        "id": "9jv5L6cQ1U_j"
      },
      "source": [
        "# Orden descendente\n",
        "d_star_wars.sort_values('height', ascending=False)"
      ],
      "execution_count": null,
      "outputs": []
    },
    {
      "cell_type": "code",
      "metadata": {
        "id": "eAhaXOU-KEUz"
      },
      "source": [
        "from google.colab.data_table import DataTable\n",
        "\n",
        "# Ordenar por dos columnas\n",
        "DataTable(d_star_wars.sort_values(['species', 'height']))"
      ],
      "execution_count": null,
      "outputs": []
    },
    {
      "cell_type": "code",
      "metadata": {
        "id": "P7MbdXrwLgCY"
      },
      "source": [
        "# Emprolijar para chequear\n",
        "d_sw_ordenado=d_star_wars.sort_values(['species', 'height'])"
      ],
      "execution_count": null,
      "outputs": []
    },
    {
      "cell_type": "code",
      "metadata": {
        "id": "Owp8WOfFN6M8"
      },
      "source": [
        "# Comprobamos que están ordenados\n",
        "d_sw_ordenado=d_sw_ordenado[['species', 'height']]\n",
        "\n",
        "DataTable(d_sw_ordenado)"
      ],
      "execution_count": null,
      "outputs": []
    },
    {
      "cell_type": "markdown",
      "metadata": {
        "id": "aBMj5pU35vUc"
      },
      "source": [
        "### 4) ¿Cómo crear una variable en un dataframe?"
      ]
    },
    {
      "cell_type": "code",
      "metadata": {
        "id": "H_pKgFic6cCg"
      },
      "source": [
        "d_star_wars['columna_nueva']=999\n",
        "\n",
        "d_star_wars"
      ],
      "execution_count": null,
      "outputs": []
    },
    {
      "cell_type": "code",
      "metadata": {
        "id": "M0z8mewE51Wo"
      },
      "source": [
        "# Pasando a metros la altura\n",
        "d_star_wars['height_mts']=d_star_wars['height']/100\n",
        "\n",
        "d_star_wars.head()"
      ],
      "execution_count": null,
      "outputs": []
    },
    {
      "cell_type": "markdown",
      "metadata": {
        "id": "bPKSxpwP6SLj"
      },
      "source": [
        "### 5) ¿Cómo reordenar variables en un pandas data frame?\n"
      ]
    },
    {
      "cell_type": "code",
      "metadata": {
        "id": "17Apo11C51Y2"
      },
      "source": [
        "# Tomo las 3 priemras columnas (name, height, mass)\n",
        "d_star_wars_4=d_star_wars.iloc[:, 0:3]\n",
        "d_star_wars_4.columns"
      ],
      "execution_count": null,
      "outputs": []
    },
    {
      "cell_type": "code",
      "metadata": {
        "id": "a3ZpvfSOmTbQ"
      },
      "source": [
        "# reorden\n",
        "d_star_wars_5=d_star_wars_4[['mass', 'height', 'name']]"
      ],
      "execution_count": null,
      "outputs": []
    },
    {
      "cell_type": "code",
      "metadata": {
        "id": "rVtZBsEol00w"
      },
      "source": [
        "d_star_wars_5"
      ],
      "execution_count": null,
      "outputs": []
    },
    {
      "cell_type": "markdown",
      "metadata": {
        "id": "xK6fx3RVm9Nd"
      },
      "source": [
        "### 6) ¿Cómo renombrar variables?\n"
      ]
    },
    {
      "cell_type": "code",
      "metadata": {
        "id": "yR2bB2avqgkR"
      },
      "source": [
        "d_star_wars_5.head()"
      ],
      "execution_count": null,
      "outputs": []
    },
    {
      "cell_type": "code",
      "metadata": {
        "id": "ZsXsmQ9xqwob"
      },
      "source": [
        "d_star_wars_5.rename(columns={'mass':'peso', 'height':'altura', 'name':'nombre'}).head()"
      ],
      "execution_count": null,
      "outputs": []
    },
    {
      "cell_type": "code",
      "metadata": {
        "id": "zfyQ7hGIqg-O"
      },
      "source": [
        "# Aplicar función a todas las columnas. Todo a minúscula o mayúscula\n",
        "\n",
        "d_star_wars_5.rename(str.upper, axis=\"columns\").head()"
      ],
      "execution_count": null,
      "outputs": []
    },
    {
      "cell_type": "code",
      "source": [
        "d_star_wars_5.rename(str.lower, axis=\"columns\").head()"
      ],
      "metadata": {
        "id": "PG7si5p3kdh9"
      },
      "execution_count": null,
      "outputs": []
    },
    {
      "cell_type": "markdown",
      "metadata": {
        "id": "Y-q9S_dRull9"
      },
      "source": [
        "Eliminar espacios de las columnas"
      ]
    },
    {
      "cell_type": "code",
      "metadata": {
        "id": "D7LRTDk5s_8f"
      },
      "source": [
        "d_star_wars_6=d_star_wars_5.rename(columns={'mass':'peso del personaje', 'height':'altura del personaje'})\n",
        "d_star_wars_6.head()"
      ],
      "execution_count": null,
      "outputs": []
    },
    {
      "cell_type": "code",
      "metadata": {
        "id": "71QxlAIBtN0D"
      },
      "source": [
        "d_star_wars_6.columns = d_star_wars_6.columns.str.replace(' ', '_')\n",
        "\n",
        "d_star_wars_6.head()"
      ],
      "execution_count": null,
      "outputs": []
    },
    {
      "cell_type": "markdown",
      "metadata": {
        "id": "np3kNIYMw3KR"
      },
      "source": [
        "### 7)  ¿Cómo filtrar datos con pandas query?"
      ]
    },
    {
      "cell_type": "code",
      "metadata": {
        "id": "Xwf0fibjsVGO"
      },
      "source": [
        "d_star_wars.query(\" height > 220 \")"
      ],
      "execution_count": null,
      "outputs": []
    },
    {
      "cell_type": "code",
      "metadata": {
        "id": "NEQL8IzNyymU"
      },
      "source": [
        "# AND\n",
        "d_star_wars.query(\" height > 220 and hair_color == 'brown' \")"
      ],
      "execution_count": null,
      "outputs": []
    },
    {
      "cell_type": "code",
      "metadata": {
        "id": "k4a5JScAzDt2"
      },
      "source": [
        "# OR, filtrar extremos\n",
        "d_star_wars.query(\"height < 150 or height > 220 \")"
      ],
      "execution_count": null,
      "outputs": []
    },
    {
      "cell_type": "markdown",
      "metadata": {
        "id": "ZqK9gWPYME-A"
      },
      "source": [
        "### 8) Descripción estadística básica\n"
      ]
    },
    {
      "cell_type": "code",
      "metadata": {
        "id": "pVKITVh_iFOa"
      },
      "source": [
        "#Instalamos funpymodeling para obtener estadística de los datos\n",
        "\n",
        "%%capture\n",
        "!pip install funpymodeling"
      ],
      "execution_count": null,
      "outputs": []
    },
    {
      "cell_type": "code",
      "metadata": {
        "id": "3aGmIA0hiI8q"
      },
      "source": [
        "#importamos la librería para poder utilizarla\n",
        "from funpymodeling.exploratory import status, freq_tbl, profiling_num"
      ],
      "execution_count": null,
      "outputs": []
    },
    {
      "cell_type": "code",
      "metadata": {
        "id": "PlvUbvidMdAR"
      },
      "source": [
        "# Análisis univariado var numérica\n",
        "profiling_num(d_star_wars)"
      ],
      "execution_count": null,
      "outputs": []
    },
    {
      "cell_type": "code",
      "metadata": {
        "id": "hwGhyS7YulwE"
      },
      "source": [
        "profiling_num(d_star_wars['height'])"
      ],
      "execution_count": null,
      "outputs": []
    },
    {
      "cell_type": "code",
      "metadata": {
        "id": "Q0a6pyKSiW0N"
      },
      "source": [
        "# Análisis univariado var categórica\n",
        "freq_tbl(d_star_wars)"
      ],
      "execution_count": null,
      "outputs": []
    },
    {
      "cell_type": "markdown",
      "metadata": {
        "id": "Ru1atKcfoDVR"
      },
      "source": [
        "¿Cómo aplicar funciones de sumarización a cada columna?"
      ]
    },
    {
      "cell_type": "code",
      "metadata": {
        "id": "NcsXO18lMl7i"
      },
      "source": [
        "d_star_wars['height'].max()"
      ],
      "execution_count": null,
      "outputs": []
    },
    {
      "cell_type": "code",
      "metadata": {
        "id": "MOgYCQOmv0sj"
      },
      "source": [
        "d_star_wars['height'].mean()"
      ],
      "execution_count": null,
      "outputs": []
    },
    {
      "cell_type": "code",
      "metadata": {
        "id": "nEoZYhjQwR0b"
      },
      "source": [
        "print(\"El promedio de altura es %s y el  de la altura en mts es: %s\" % (str(d_star_wars['height'].mean()), str(d_star_wars['height_mts'].mean())))\n",
        "\n"
      ],
      "execution_count": null,
      "outputs": []
    },
    {
      "cell_type": "markdown",
      "metadata": {
        "id": "u2gWPdodAZym"
      },
      "source": [
        "### 9) ¿Cómo exportar un pandas dataframe a csv?\n",
        "(y directorio de trabajo)"
      ]
    },
    {
      "cell_type": "code",
      "metadata": {
        "id": "W_a3NfXd8pbI"
      },
      "source": [
        "d_star_wars_2.head()"
      ],
      "execution_count": null,
      "outputs": []
    },
    {
      "cell_type": "code",
      "metadata": {
        "id": "nlGcOvcr9o4K"
      },
      "source": [
        "#Creamos un archivo csv desde un dataframa\n",
        "d_star_wars_2.to_csv('starwars_colab.csv',  sep=',', index=False)\n"
      ],
      "execution_count": null,
      "outputs": []
    },
    {
      "cell_type": "code",
      "source": [
        "#Bajamos el archivo\n",
        "files.download('starwars_colab.csv')"
      ],
      "metadata": {
        "id": "UQIeK88F5tSs"
      },
      "execution_count": null,
      "outputs": []
    },
    {
      "cell_type": "markdown",
      "source": [
        "#Ejercicios\n",
        "\n",
        "Ejercicio 1: Basado en el dataframe d_star_wars agregar una columna nueva llamada BMI y calcular el indice de masa corporal (BMI) de cada personaje (mostrar nombre y BMI) [BMI = weight (kg) / height² (m²)]"
      ],
      "metadata": {
        "id": "UlHBafD76jAT"
      }
    },
    {
      "cell_type": "code",
      "source": [
        "#Antes de comenzar con los ejercicios volvemos a cargar los datos\n",
        "d_star_wars = pd.read_csv(filepath_or_buffer=\"https://raw.githubusercontent.com/fpineyro/homework-0/master/starwars.csv\", sep=',')\n",
        "\n",
        "#Convertimos la columna peso (mass) a valores decimales\n",
        "d_star_wars['mass'] = pd.to_numeric(d_star_wars['mass'], errors='coerce')\n",
        "\n",
        "d_star_wars"
      ],
      "metadata": {
        "id": "dCUyuaXSS7hE"
      },
      "execution_count": null,
      "outputs": []
    },
    {
      "cell_type": "markdown",
      "source": [
        "Ejercicio 1: Basado en el dataframe d_star_wars agregar una columna nueva llamada BMI y calcular el indice de masa corporal (BMI) de cada personaje (mostrar nombre y BMI) [BMI = weight (kg) / height² (m²)]"
      ],
      "metadata": {
        "id": "BlypjiV8lq2p"
      }
    },
    {
      "cell_type": "code",
      "source": [
        "#Ejercicio 1\n"
      ],
      "metadata": {
        "id": "z5vhAZFW7K1u"
      },
      "execution_count": null,
      "outputs": []
    },
    {
      "cell_type": "markdown",
      "source": [
        "Ejercicio 2: Mostrar nombre, altura y peso de todos los personajes ordenardos de mayor altura a menor altura"
      ],
      "metadata": {
        "id": "1jX2hGyN7LYp"
      }
    },
    {
      "cell_type": "code",
      "source": [
        "#Ejercicio 2\n"
      ],
      "metadata": {
        "id": "Ph96nYJH7cvm"
      },
      "execution_count": null,
      "outputs": []
    },
    {
      "cell_type": "markdown",
      "source": [
        "Ejercicio 3: Del campo hair_color reemplazar los valores nulos por 0 (cero)\n",
        "\n"
      ],
      "metadata": {
        "id": "rEWlkcZN7smV"
      }
    },
    {
      "cell_type": "code",
      "source": [
        "#Ejercicio 3\n",
        "\n"
      ],
      "metadata": {
        "id": "iTVSxVTC8KFY"
      },
      "execution_count": null,
      "outputs": []
    },
    {
      "cell_type": "markdown",
      "source": [
        "Ejercicio 4: Listar los personajes femeninos de la raza humana."
      ],
      "metadata": {
        "id": "1M_HIrYQ8tCO"
      }
    },
    {
      "cell_type": "code",
      "source": [
        "#Ejercicio 4\n"
      ],
      "metadata": {
        "id": "RsziTQCu81hl"
      },
      "execution_count": null,
      "outputs": []
    },
    {
      "cell_type": "markdown",
      "source": [
        "Ejercicio 5: listar todos los personajes que miden más de 2 metros."
      ],
      "metadata": {
        "id": "mHiJdmUE85Ft"
      }
    },
    {
      "cell_type": "code",
      "source": [
        "#Ejercicio 5\n"
      ],
      "metadata": {
        "id": "HWdznM2F9EAy"
      },
      "execution_count": null,
      "outputs": []
    },
    {
      "cell_type": "markdown",
      "source": [
        "Ejercicio 6: calcular el peso promedio de los personajes por género. Redondear el peso a dos decimales."
      ],
      "metadata": {
        "id": "oXKXOq3GBo33"
      }
    },
    {
      "cell_type": "code",
      "source": [
        "#Ejercicio 6\n",
        "\n"
      ],
      "metadata": {
        "id": "lFuwo_b8BtvI"
      },
      "execution_count": null,
      "outputs": []
    },
    {
      "cell_type": "markdown",
      "source": [
        "Ejercicio 7: Calcular la altura máxima por cada especie"
      ],
      "metadata": {
        "id": "hiFkIpTsO7Mw"
      }
    },
    {
      "cell_type": "code",
      "source": [
        "#Ejercicio 7\n",
        "\n"
      ],
      "metadata": {
        "id": "gNo25a4SPDcg"
      },
      "execution_count": null,
      "outputs": []
    },
    {
      "cell_type": "markdown",
      "source": [
        "Ejercicio 8: Calcular la cantidad de personajes que contienen ojos de color rojo"
      ],
      "metadata": {
        "id": "JD9OxE1FPRMi"
      }
    },
    {
      "cell_type": "code",
      "source": [
        "#Ejercicio 8\n",
        "\n"
      ],
      "metadata": {
        "id": "oek5DO40Pg2p"
      },
      "execution_count": null,
      "outputs": []
    },
    {
      "cell_type": "markdown",
      "source": [
        "Ejercicio 9: Mostrar los personajes que son del planeta Kamino y tienen piel de color gris"
      ],
      "metadata": {
        "id": "WMXlYQJcP1xW"
      }
    },
    {
      "cell_type": "code",
      "source": [
        "#Ejercicio 9\n"
      ],
      "metadata": {
        "id": "q60fqfNIP_52"
      },
      "execution_count": null,
      "outputs": []
    },
    {
      "cell_type": "markdown",
      "source": [
        "Ejercicio 10: Mostrar los personajes que midan menos de 1 metro y que sean hombres"
      ],
      "metadata": {
        "id": "t6TPYINOQXMx"
      }
    },
    {
      "cell_type": "code",
      "source": [
        "#Ejercicios 10\n",
        "\n",
        "\n"
      ],
      "metadata": {
        "id": "fZugM1ijQZMz"
      },
      "execution_count": null,
      "outputs": []
    }
  ]
}